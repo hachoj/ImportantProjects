{
 "cells": [
  {
   "cell_type": "code",
   "execution_count": 1,
   "metadata": {},
   "outputs": [],
   "source": [
    "import torch\n",
    "import torch.nn as nn\n",
    "import torch.nn.functional as F"
   ]
  },
  {
   "cell_type": "code",
   "execution_count": 2,
   "metadata": {},
   "outputs": [
    {
     "name": "stdout",
     "output_type": "stream",
     "text": [
      "Vocab length is : 61\n",
      "{'\\n': 0, ' ': 1, '!': 2, \"'\": 3, '(': 4, ')': 5, ',': 6, '-': 7, '.': 8, ':': 9, ';': 10, '?': 11, 'A': 12, 'B': 13, 'C': 14, 'D': 15, 'E': 16, 'F': 17, 'G': 18, 'H': 19, 'I': 20, 'J': 21, 'K': 22, 'L': 23, 'M': 24, 'N': 25, 'O': 26, 'P': 27, 'R': 28, 'S': 29, 'T': 30, 'U': 31, 'V': 32, 'W': 33, 'Y': 34, 'a': 35, 'b': 36, 'c': 37, 'd': 38, 'e': 39, 'f': 40, 'g': 41, 'h': 42, 'i': 43, 'j': 44, 'k': 45, 'l': 46, 'm': 47, 'n': 48, 'o': 49, 'p': 50, 'q': 51, 'r': 52, 's': 53, 't': 54, 'u': 55, 'v': 56, 'w': 57, 'x': 58, 'y': 59, 'z': 60} {0: '\\n', 1: ' ', 2: '!', 3: \"'\", 4: '(', 5: ')', 6: ',', 7: '-', 8: '.', 9: ':', 10: ';', 11: '?', 12: 'A', 13: 'B', 14: 'C', 15: 'D', 16: 'E', 17: 'F', 18: 'G', 19: 'H', 20: 'I', 21: 'J', 22: 'K', 23: 'L', 24: 'M', 25: 'N', 26: 'O', 27: 'P', 28: 'R', 29: 'S', 30: 'T', 31: 'U', 32: 'V', 33: 'W', 34: 'Y', 35: 'a', 36: 'b', 37: 'c', 38: 'd', 39: 'e', 40: 'f', 41: 'g', 42: 'h', 43: 'i', 44: 'j', 45: 'k', 46: 'l', 47: 'm', 48: 'n', 49: 'o', 50: 'p', 51: 'q', 52: 'r', 53: 's', 54: 't', 55: 'u', 56: 'v', 57: 'w', 58: 'x', 59: 'y', 60: 'z'}\n"
     ]
    }
   ],
   "source": [
    "text = open('shakespeare.txt', 'r').read()\n",
    "stoi = {ch: i for i, ch in enumerate(sorted(list(set(text))))}\n",
    "itos = {i: ch for ch, i in stoi.items()}\n",
    "encode = lambda s: [stoi[c] for c in s]\n",
    "decode = lambda l: ''.join([itos[i] for i in l])\n",
    "vcb = len(stoi)\n",
    "print(f\"Vocab length is : {vcb}\")\n",
    "import random\n",
    "\n",
    "class dataloader:\n",
    "    def __init__(self):\n",
    "        self.data = torch.tensor(encode(text))\n",
    "        self.train_counter = 0\n",
    "        self.val_counter = 0\n",
    "    def next_batch(self, dataset):\n",
    "        n = int(len(self.data) * 0.9)\n",
    "        xt = self.data[self.train_counter:84000 + self.train_counter].view(-1, 100)\n",
    "        yt = self.data[1 + self.train_counter:84001 + self.train_counter].view(-1, 100)\n",
    "        xv = self.data[self.val_counter + 84000:self.val_counter + 94000].view(-1, 100)\n",
    "        yv = self.data[self.val_counter + 84001:self.val_counter + 94001].view(-1, 100)\n",
    "        if dataset == 'train':\n",
    "            self.train_counter += random.randint(1, 100)\n",
    "            if self.train_counter + len(self.data) >= 84000:\n",
    "                self.train_counter = 0\n",
    "            return xt, yt\n",
    "        elif dataset == 'val':\n",
    "            self.val_counter += random.randint(1, 100)\n",
    "            if self.val_counter + len(self.data) >= 94000:\n",
    "                self.val_counter = 0\n",
    "            return xv, yv\n",
    "        else:\n",
    "            raise Exception(\"Invalid dataset\")\n",
    "print(stoi, itos)"
   ]
  },
  {
   "cell_type": "code",
   "execution_count": 3,
   "metadata": {},
   "outputs": [
    {
     "data": {
      "text/plain": [
       "torch.Size([94275])"
      ]
     },
     "execution_count": 3,
     "metadata": {},
     "output_type": "execute_result"
    }
   ],
   "source": [
    "torch.tensor(encode(text)).shape"
   ]
  },
  {
   "cell_type": "code",
   "execution_count": 4,
   "metadata": {},
   "outputs": [],
   "source": [
    "from dataclasses import dataclass\n",
    "@dataclass\n",
    "class Config:\n",
    "    n_embd = 256\n",
    "    hidden_size = 512\n",
    "    n_hidden = 3\n",
    "    vocab_size = 61\n",
    "    device = 'cuda' if torch.cuda.is_available() else 'cpu'\n",
    "\n",
    "class ShakespeareRNN(nn.Module):\n",
    "    def __init__(self, config):\n",
    "        super(ShakespeareRNN, self).__init__()\n",
    "        self.config = config\n",
    "        self.embedding = nn.Embedding(config.vocab_size, config.n_embd)\n",
    "        self.RNN = nn.ModuleDict(dict(\n",
    "            inputs = nn.Linear(config.n_embd, config.hidden_size),\n",
    "            hidden = nn.Linear(config.hidden_size, config.hidden_size),\n",
    "            hidden2 = nn.Linear(config.hidden_size, config.hidden_size),\n",
    "            hidden3 = nn.Linear(config.hidden_size, config.hidden_size),\n",
    "            output = nn.Linear(config.hidden_size, config.vocab_size)\n",
    "        ))\n",
    "    def forward(self, x, hidden_state, target=None):\n",
    "        x = self.embedding(x)\n",
    "        x = F.gelu(self.RNN['inputs'](x) + self.RNN['hidden'](hidden_state))\n",
    "        x = x + F.gelu(self.RNN['hidden2'](x))\n",
    "        x = x + F.gelu(self.RNN['hidden3'](x))\n",
    "        hidden_state = x\n",
    "        output = self.RNN['output'](x)\n",
    "        loss = None\n",
    "        if target is not None:\n",
    "            loss = F.cross_entropy(output, target)\n",
    "        return output, hidden_state, loss"
   ]
  },
  {
   "cell_type": "code",
   "execution_count": 5,
   "metadata": {},
   "outputs": [],
   "source": [
    "# prompt: Cosine learning rate decay function\n",
    "import math\n",
    "\n",
    "def cosine_lr_decay(optimizer, step, total_steps, lr_max, lr_min):\n",
    "    \"\"\"\n",
    "    Cosine learning rate decay function.\n",
    "\n",
    "    Args:\n",
    "        optimizer: The optimizer whose learning rate is to be decayed.\n",
    "        step: The current training step.\n",
    "        total_steps: The total number of training steps.\n",
    "        lr_max: The maximum learning rate.\n",
    "        lr_min: The minimum learning rate.\n",
    "\n",
    "    Returns:\n",
    "        None\n",
    "    \"\"\"\n",
    "    progress = step / total_steps\n",
    "    lr = lr_min + (lr_max - lr_min) * (0.5 * (1 + math.cos(progress * math.pi)))\n",
    "    return lr\n"
   ]
  },
  {
   "cell_type": "code",
   "execution_count": 6,
   "metadata": {},
   "outputs": [
    {
     "name": "stdout",
     "output_type": "stream",
     "text": [
      "The number of parameters in the model is: 966461\n"
     ]
    }
   ],
   "source": [
    "model = ShakespeareRNN(Config()).to(Config().device)\n",
    "num_params = sum(p.numel() for p in model.parameters())\n",
    "print(f\"The number of parameters in the model is: {num_params}\")"
   ]
  },
  {
   "cell_type": "code",
   "execution_count": 7,
   "metadata": {},
   "outputs": [
    {
     "name": "stdout",
     "output_type": "stream",
     "text": [
      "Epoch: [0/3000], Loss: 2.268352507352829, Val Loss: 1.9106521093845368\n",
      "Epoch: [100/3000], Loss: 1.1352999180555343, Val Loss: 2.070452616214752\n",
      "Epoch: [200/3000], Loss: 1.076314741373062, Val Loss: 2.3088936495780943\n",
      "Epoch: [300/3000], Loss: 1.0381871038675308, Val Loss: 2.333832850456238\n",
      "Epoch: [400/3000], Loss: 1.0257850539684297, Val Loss: 2.346718285083771\n",
      "Epoch: [500/3000], Loss: 0.9982595890760422, Val Loss: 2.439258476495743\n",
      "Epoch: [600/3000], Loss: 0.978696905374527, Val Loss: 2.4511160027980803\n",
      "Epoch: [700/3000], Loss: 0.9535985660552978, Val Loss: 2.554341630935669\n",
      "Epoch: [800/3000], Loss: 0.9282117390632629, Val Loss: 2.589925948381424\n",
      "Epoch: [900/3000], Loss: 0.9032047098875046, Val Loss: 2.660477876663208\n",
      "Epoch: [1000/3000], Loss: 0.8880662375688553, Val Loss: 2.6788816404342652\n",
      "Epoch: [1100/3000], Loss: 0.8575604856014252, Val Loss: 2.7501745557785036\n",
      "Epoch: [1200/3000], Loss: 0.8405070346593857, Val Loss: 2.8059444427490234\n",
      "Epoch: [1300/3000], Loss: 0.8075519415736199, Val Loss: 2.8365404427051546\n",
      "Epoch: [1400/3000], Loss: 0.7804212659597397, Val Loss: 2.970718072652817\n",
      "Epoch: [1500/3000], Loss: 0.7603779241442681, Val Loss: 3.011628499031067\n",
      "Epoch: [1600/3000], Loss: 0.7286731937527656, Val Loss: 3.1594735884666445\n",
      "Epoch: [1700/3000], Loss: 0.6977145111560822, Val Loss: 3.210602650642395\n",
      "Epoch: [1800/3000], Loss: 0.6743083322048187, Val Loss: 3.273850975036621\n",
      "Epoch: [1900/3000], Loss: 0.638896349966526, Val Loss: 3.420697340965271\n",
      "Epoch: [2000/3000], Loss: 0.6212398546934128, Val Loss: 3.4941527104377745\n",
      "Epoch: [2100/3000], Loss: 0.5980400902032852, Val Loss: 3.591373941898346\n",
      "Epoch: [2200/3000], Loss: 0.5751140969991684, Val Loss: 3.651680977344513\n",
      "Epoch: [2300/3000], Loss: 0.5515818230807781, Val Loss: 3.7653974318504333\n",
      "Epoch: [2400/3000], Loss: 0.5370117548108101, Val Loss: 3.846058850288391\n",
      "Epoch: [2500/3000], Loss: 0.5252970971167088, Val Loss: 3.9670392370223997\n",
      "Epoch: [2600/3000], Loss: 0.5099734035134316, Val Loss: 4.063283479213714\n",
      "Epoch: [2700/3000], Loss: 0.5013272634148598, Val Loss: 4.085649826526642\n",
      "Epoch: [2800/3000], Loss: 0.49041498109698295, Val Loss: 4.06409289598465\n",
      "Epoch: [2900/3000], Loss: 0.4840464110672474, Val Loss: 4.095321617126465\n"
     ]
    }
   ],
   "source": [
    "# training\n",
    "num_epochs = 3000\n",
    "dl = dataloader()\n",
    "optimizer = torch.optim.Adam(model.parameters(), lr=0.001)\n",
    "first_hidden  = torch.zeros(1, model.config.hidden_size).to(model.config.device)\n",
    "hidden_state = first_hidden\n",
    "tlossi = []\n",
    "vlossi = []\n",
    "lri = []\n",
    "gradients = []\n",
    "for epoch in range(num_epochs):\n",
    "    x, y = dl.next_batch('train')\n",
    "    xv, yv = dl.next_batch('val')\n",
    "    x, y = x.to(model.config.device), y.to(model.config.device)\n",
    "    xv, yv = xv.to(model.config.device), yv.to(model.config.device)\n",
    "    total_loss = 0\n",
    "    val_loss = 0\n",
    "    epoch_loss = 0\n",
    "    lr = cosine_lr_decay(optimizer, epoch, num_epochs, 0.001, 0.00001)\n",
    "    # lr = 0.0001\n",
    "    lri.append(lr)\n",
    "    for i in range(100):\n",
    "        hidden_state = hidden_state.detach()\n",
    "        output, hidden_state, loss = model(x[:, i], hidden_state=hidden_state, target=y[:, i])\n",
    "        for param_group in optimizer.param_groups:\n",
    "            param_group['lr'] = lr\n",
    "        optimizer.zero_grad()\n",
    "        loss.backward()\n",
    "        # gradient clipping\n",
    "        nn.utils.clip_grad_norm_(model.parameters(), 1)\n",
    "        total_loss += loss.item()\n",
    "        epoch_loss += loss.item()\n",
    "        optimizer.step()\n",
    "        interval = 50\n",
    "        if (i + 1) % interval == 0 and i != 0:\n",
    "            tlossi.append(total_loss/(interval))\n",
    "            total_loss = 0\n",
    "        if epoch % 100 == 0 and i == 99:\n",
    "            with torch.no_grad():\n",
    "                val_hidden = torch.zeros(1, model.config.hidden_size).to(model.config.device)\n",
    "                for j in range(100):\n",
    "                    val_hidden = val_hidden.detach()\n",
    "                    output, val_hidden, loss = model(xv[:, j], hidden_state=val_hidden, target=yv[:, j])\n",
    "                    val_loss += loss.item()\n",
    "                print(f\"Epoch: [{epoch}/{num_epochs}], Loss: {epoch_loss/100}, Val Loss: {val_loss/100}\") \n",
    "                vlossi.append(val_loss/100)\n",
    "        total_grad_norm_squared = 0\n",
    "        for param in model.parameters():\n",
    "            if param.grad is not None:\n",
    "                grad_norm_squared = torch.sum(param.grad ** 2)\n",
    "                total_grad_norm_squared += grad_norm_squared\n",
    "        total_grad_norm = total_grad_norm_squared.sqrt().item()\n",
    "        gradients.append(total_grad_norm)\n",
    "        \n",
    "torch.save(model.state_dict(), 'shakespeare_rnn_3000_3r_res_1m.pth')                            \n"
   ]
  },
  {
   "cell_type": "code",
   "execution_count": 8,
   "metadata": {},
   "outputs": [
    {
     "data": {
      "image/png": "[encoded data removed]",
      "text/plain": [
       "<Figure size 640x480 with 1 Axes>"
      ]
     },
     "metadata": {},
     "output_type": "display_data"
    },
    {
     "name": "stdout",
     "output_type": "stream",
     "text": [
      "Min tes loss: 0.47102188974618914\n",
      "Fin tes loss: 0.49916060090065\n",
      "Min val loss: 1.9106521093845368\n",
      "Fin val loss: 4.095321617126465\n"
     ]
    }
   ],
   "source": [
    "import matplotlib.pyplot as plt\n",
    "plt.plot((tlossi[:]))\n",
    "# clipped_lossi = []\n",
    "# for l in tlossi:\n",
    "#     if l < 3:\n",
    "#         clipped_lossi.append(l)\n",
    "# plt.plot(clipped_lossi)\n",
    "plt.show()\n",
    "print(f\"Min tes loss: {min(tlossi)}\")\n",
    "print(f\"Fin tes loss: {tlossi[-1]}\")\n",
    "print(f\"Min val loss: {min(vlossi)}\")\n",
    "print(f\"Fin val loss: {vlossi[-1]}\")"
   ]
  },
  {
   "cell_type": "markdown",
   "metadata": {},
   "source": [
    "When ran with 1000 epochs without residuals the min loss was: 1.612 \\\n",
    "When ran with 1000 epochs with residuals the min loss was: 1.601 \\\n",
    "When ran with 2000 epochs with residuals the min loss was: 1.589 \\\n",
    "note* while looking at the loss graph it seems like the loss can continue to decrease with this setup and more epochs \\\n",
    "When ran with 2000 epochs with residuals and two hidden layers the min loss was: 1.529 \\\n",
    "First going to get the val loss for this run and see how it is \\\n",
    "The same test with val loss now being calculated. MIN Tloss: 1.516 MIN VLoss: 1.826 \\\n",
    "\\\n",
    "To test the impact of residuals I'm going to remove them here and see how that affects the performance \\\n",
    "No Residuals: MIN TLoss: 1.516 MIN VLoss: 1.826 \\\n",
    "\\\n",
    "Making the model more parameters and deeper from 20000 params to 700000 and gradient clipping\\\n",
    "old, n_embd=64 n_hidden=64 \\\n",
    "new, n_embd=256 n_hidden = 512 \\\n",
    "New test with 2000 epochs, MIN TLoss: 1.377 FIN VLoss: 2.778 \\ \n",
    "\\\n",
    "Final test for now \\\n",
    "1 million param, 3 hidden, 3k epochs, p.s. found a bug in the model so everything before is a little weird \\\n",
    "MIN TLoss: 0.471 FIN VLoss: 4.09 \\\n",
    "So this is obviosly just memorizing the dataset at this point and the limits of char NLP is evident\n"
   ]
  },
  {
   "cell_type": "code",
   "execution_count": 13,
   "metadata": {},
   "outputs": [
    {
     "name": "stdout",
     "output_type": "stream",
     "text": [
      "I sense of my love, to whom I am not born to out in your true love of young.\n",
      "Thus have return in your perfumed the herd\n",
      "As a death my days should it depends of blood warmion this glutton by your shadow kind,\n",
      "Harsh, still without all deeds must I under than a for nor than of my brain\n",
      "Full change into my deeds thee,\n",
      "This sin there beauty being made)\n",
      "Shall beauty was every alien pen hath more enlarged hooks of the blind do not summer's shope to present'st friend's oppress hhants by.\n",
      "\n",
      "\n",
      "\n",
      "Since first the world will be the mortal wanting youth, some into my beloved, yet where thou art.\n",
      "Gen but one, and the read fleece tang a number on me thought\n",
      "To think of them me well proud of agers with flower from Time's quicked the clock that thou for worthiness give them thy mother;  \n",
      "Withister still,\n",
      "Which through him be grieved that flowers I better becomimy profitless usurer weeds.\n",
      "\n",
      "\n",
      "\n",
      "For walks treads w"
     ]
    }
   ],
   "source": [
    "# model testing\n",
    "\n",
    "\n",
    "hidden_state = torch.zeros(1, model.config.hidden_size).to(model.config.device)\n",
    "output = torch.tensor([20]).to(model.config.device)\n",
    "print(itos[20], end='')\n",
    "response_length = 900\n",
    "for _ in range(response_length):\n",
    "    output, hidden_state, loss = model(output, hidden_state=hidden_state)\n",
    "    probs = F.softmax(output.view(1, -1), dim=1)\n",
    "    output = torch.multinomial(probs, num_samples=1)\n",
    "    print(itos[int(output.item())], end='')"
   ]
  },
  {
   "cell_type": "code",
   "execution_count": null,
   "metadata": {},
   "outputs": [],
   "source": []
  },
  {
   "cell_type": "code",
   "execution_count": null,
   "metadata": {},
   "outputs": [],
   "source": []
  },
  {
   "cell_type": "code",
   "execution_count": null,
   "metadata": {},
   "outputs": [],
   "source": []
  },
  {
   "cell_type": "code",
   "execution_count": null,
   "metadata": {},
   "outputs": [],
   "source": []
  }
 ],
 "metadata": {
  "kernelspec": {
   "display_name": "ml",
   "language": "python",
   "name": "python3"
  },
  "language_info": {
   "codemirror_mode": {
    "name": "ipython",
    "version": 3
   },
   "file_extension": ".py",
   "mimetype": "text/x-python",
   "name": "python",
   "nbconvert_exporter": "python",
   "pygments_lexer": "ipython3",
   "version": "3.12.4"
  }
 },
 "nbformat": 4,
 "nbformat_minor": 2
}
