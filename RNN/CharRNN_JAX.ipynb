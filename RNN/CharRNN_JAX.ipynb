{
 "cells": [
  {
   "cell_type": "code",
   "execution_count": 10,
   "metadata": {},
   "outputs": [],
   "source": [
    "import jax\n",
    "import jax.numpy as jnp\n",
    "from flax import linen as nn  # Linen API"
   ]
  },
  {
   "cell_type": "code",
   "execution_count": 13,
   "metadata": {},
   "outputs": [],
   "source": [
    "class dataloader:\n",
    "    def __init__(self, B, T):\n",
    "        self.B = B\n",
    "        self.T = T\n",
    "        text = open('shakespeare.txt', 'r').read()\n",
    "        self.stoi = {ch: i for i, ch in enumerate(sorted(set(text)))}\n",
    "        self.itos = {i: ch for ch, i in self.stoi.items()}\n",
    "        self.encode = lambda x: [self.stoi[ch] for ch in x]\n",
    "        self.decode = lambda x: ''.join(self.itos[i] for i in x)\n",
    "        vcb = len(self.stoi)\n",
    "        print(f\"Vocab length is: {vcb}\")\n",
    "        self.data = jnp.array(self.encode(text))\n",
    "        self.train_counter = 0\n",
    "    \n",
    "    def train(self):\n",
    "        B, T = self.B, self.T\n",
    "        buf = self.data[self.train_counter:self.train_counter+B*T+1]\n",
    "        x = buf[:-1].reshape(B, T)\n",
    "        y = buf[1:].reshape(B, T)\n",
    "        self.train_counter += B*T\n",
    "        if self.train_counter + B*T + 1 > len(self.data):\n",
    "            self.train_counter = B*T + 1 - (len(self.data) - self.train_counter)\n",
    "        return x, y"
   ]
  },
  {
   "cell_type": "code",
   "execution_count": 14,
   "metadata": {},
   "outputs": [
    {
     "name": "stdout",
     "output_type": "stream",
     "text": [
      "Vocab length is: 61\n"
     ]
    }
   ],
   "source": [
    "dl = dataloader(64, 64)"
   ]
  },
  {
   "cell_type": "code",
   "execution_count": 23,
   "metadata": {},
   "outputs": [],
   "source": [
    "from dataclasses import dataclass\n",
    "@dataclass\n",
    "class Config:\n",
    "    n_embd: int = 128\n",
    "    hidden_dim: int = 256\n",
    "    n_hidden: int = 2\n",
    "    vocab_size: int = 64\n",
    "    # dropout_rate: float = 0.2\n",
    "    batch_size: int = 64\n",
    "    seq_len: int = 64\n",
    "    lr: float = 1e-3\n",
    "\n",
    "class ShakeRNN(nn.Module):\n",
    "    def setup(self):\n",
    "        self.config = Config()\n",
    "        self.vcb = self.config.vocab_size\n",
    "        self.n_embd = self.config.n_embd\n",
    "        self.embd = nn.Embed(num_embeddings=self.vcb, features=self.n_embd)\n",
    "        self.RNN = nn.ModuleDict(dict(\n",
    "            inputs = nn.Dense(features=self.config.hidden_dim),\n",
    "            hidden = nn.Dense(features=self.config.hidden_dim),\n",
    "            hidden2 = nn.Dense(features=self.config.hidden_dim),\n",
    "            output = nn.Dense(features=self.vcb)\n",
    "        ))\n",
    "\n",
    "    def __call__(self, x, hidden_state, target=None):\n",
    "        x = self.embd(x)\n",
    "        h = jnp.zeros((x.shape[0], self.config.hidden_dim))\n",
    "        x = jax.nn.gelu(self.RNN['inputs'](x) + self.RNN['hidden'](h))\n",
    "        x += jax.nn.gelu(self.RNN['hidden2'](x))\n",
    "        hidden_state = x\n",
    "        output = self.RNN['output'](x)\n",
    "        loss = None\n",
    "        if target is not None:\n",
    "            loss = jnp.mean(jax.nn.log_softmax(output, axis=-1) * target)\n",
    "        return output, hidden_state, loss"
   ]
  },
  {
   "cell_type": "code",
   "execution_count": 24,
   "metadata": {},
   "outputs": [],
   "source": [
    "rnn = ShakeRNN()"
   ]
  },
  {
   "cell_type": "code",
   "execution_count": null,
   "metadata": {},
   "outputs": [],
   "source": []
  }
 ],
 "metadata": {
  "kernelspec": {
   "display_name": "ml_JAX",
   "language": "python",
   "name": "python3"
  },
  "language_info": {
   "codemirror_mode": {
    "name": "ipython",
    "version": 3
   },
   "file_extension": ".py",
   "mimetype": "text/x-python",
   "name": "python",
   "nbconvert_exporter": "python",
   "pygments_lexer": "ipython3",
   "version": "3.12.5"
  }
 },
 "nbformat": 4,
 "nbformat_minor": 2
}
