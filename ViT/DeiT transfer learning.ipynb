{
 "cells": [
  {
   "cell_type": "markdown",
   "metadata": {},
   "source": [
    "Transfer learning DeiT to CIFAR-10"
   ]
  },
  {
   "cell_type": "code",
   "execution_count": 61,
   "metadata": {},
   "outputs": [],
   "source": [
    "from transformers import DeiTForImageClassification, AutoImageProcessor\n",
    "import torch\n",
    "import torch.nn as nn\n",
    "from datasets import load_dataset\n",
    "import matplotlib.pyplot as plt\n",
    "device = torch.device(\"cuda\" if torch.cuda.is_available() else \"cpu\")"
   ]
  },
  {
   "cell_type": "code",
   "execution_count": 62,
   "metadata": {},
   "outputs": [],
   "source": [
    "dataset = load_dataset(\"CIFAR10\")"
   ]
  },
  {
   "cell_type": "code",
   "execution_count": 63,
   "metadata": {},
   "outputs": [
    {
     "name": "stderr",
     "output_type": "stream",
     "text": [
      "Some weights of DeiTForImageClassification were not initialized from the model checkpoint at facebook/deit-base-distilled-patch16-224 and are newly initialized: ['classifier.bias', 'classifier.weight']\n",
      "You should probably TRAIN this model on a down-stream task to be able to use it for predictions and inference.\n"
     ]
    },
    {
     "data": {
      "image/png": "[encoded data removed]",
      "text/plain": [
       "<Figure size 640x480 with 1 Axes>"
      ]
     },
     "metadata": {},
     "output_type": "display_data"
    }
   ],
   "source": [
    "model = DeiTForImageClassification.from_pretrained(\"facebook/deit-base-distilled-patch16-224\", attn_implementation=\"sdpa\", torch_dtype=torch.float16)\n",
    "\n",
    "id_to_lb = {0: \"airplane\", 1: \"automobile\", 2: \"bird\", 3: \"cat\", 4: \"deer\", 5: \"dog\", 6: \"frog\", 7: \"horse\", 8: \"ship\", 9: \"truck\"}\n",
    "\n",
    "image_test = dataset[\"test\"][0]\n",
    "plt.imshow(image_test[\"img\"])\n",
    "plt.title(id_to_lb[image_test[\"label\"]])\n",
    "plt.show()"
   ]
  },
  {
   "cell_type": "code",
   "execution_count": 70,
   "metadata": {},
   "outputs": [],
   "source": [
    "image_processor = AutoImageProcessor.from_pretrained(\"facebook/deit-base-distilled-patch16-224\")\n",
    "\n",
    "optimizer = torch.optim.Adam(model.parameters(), lr=1e-5)\n",
    "\n",
    "class Dataloader:\n",
    "    def __init__(self, dataset, image_processor, B):\n",
    "        self.B = B\n",
    "        self.dataset = dataset\n",
    "        self.image_processor = image_processor\n",
    "        self.current_idx = 0\n",
    "\n",
    "    def shuffle(self):\n",
    "        self.dataset = self.dataset.shuffle()\n",
    "\n",
    "    def get_batch(self):\n",
    "        images = self.dataset[\"img\"][self.current_idx:self.current_idx+self.B]\n",
    "        labels = self.dataset[\"label\"][self.current_idx:self.current_idx+self.B]\n",
    "        images = self.image_processor(images, return_tensors=\"pt\")\n",
    "        labels = torch.tensor(labels).to(device)\n",
    "        self.current_idx += self.B\n",
    "        if self.current_idx >= len(self.dataset[\"img\"]):\n",
    "            self.current_idx = 0\n",
    "            self.shuffle()\n",
    "        return images, labels"
   ]
  },
  {
   "cell_type": "code",
   "execution_count": 72,
   "metadata": {},
   "outputs": [
    {
     "name": "stdout",
     "output_type": "stream",
     "text": [
      "<class 'transformers.image_processing_base.BatchFeature'>\n"
     ]
    }
   ],
   "source": [
    "dl = Dataloader(dataset[\"train\"], image_processor, B=32)\n",
    "\n",
    "model.classifier = nn.Linear(model.config.hidden_size, 10)\n",
    "model.to(device)\n",
    "\n",
    "for iter in range(100):\n",
    "    images, labels = dl.get_batch()\n",
    "    print(type(images))\n",
    "    break\n",
    "    # outputs = model(images, labels=labels)\n",
    "    # loss = outputs.loss\n",
    "    # loss.backward()\n",
    "    # optimizer.step()\n",
    "    # optimizer.zero_grad()\n",
    "    # print(f\"iter: {iter}, loss: {loss.item()}\")"
   ]
  },
  {
   "cell_type": "code",
   "execution_count": null,
   "metadata": {},
   "outputs": [],
   "source": []
  }
 ],
 "metadata": {
  "kernelspec": {
   "display_name": "ml_PT",
   "language": "python",
   "name": "python3"
  },
  "language_info": {
   "codemirror_mode": {
    "name": "ipython",
    "version": 3
   },
   "file_extension": ".py",
   "mimetype": "text/x-python",
   "name": "python",
   "nbconvert_exporter": "python",
   "pygments_lexer": "ipython3",
   "version": "3.12.5"
  }
 },
 "nbformat": 4,
 "nbformat_minor": 2
}
