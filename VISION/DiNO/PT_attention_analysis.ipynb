{
 "cells": [
  {
   "cell_type": "code",
   "execution_count": 1,
   "metadata": {},
   "outputs": [
    {
     "name": "stderr",
     "output_type": "stream",
     "text": [
      "/home/harry/miniforge3/envs/aiml/lib/python3.12/site-packages/tqdm/auto.py:21: TqdmWarning: IProgress not found. Please update jupyter and ipywidgets. See https://ipywidgets.readthedocs.io/en/stable/user_install.html\n",
      "  from .autonotebook import tqdm as notebook_tqdm\n"
     ]
    }
   ],
   "source": [
    "from torchvision.transforms import Resize\n",
    "import torch\n",
    "from datasets import load_dataset\n",
    "from transformers import AutoImageProcessor, AutoModel\n",
    "import matplotlib.pyplot as plt\n",
    "\n",
    "processor = AutoImageProcessor.from_pretrained('facebook/dinov2-base')\n",
    "model = AutoModel.from_pretrained('facebook/dinov2-base')\n",
    "\n",
    "ds = load_dataset(\"timm/oxford-iiit-pet\")\n",
    "images = ds[\"train\"][\"image\"]\n",
    "inputs = processor(images=images, return_tensors=\"pt\")"
   ]
  },
  {
   "cell_type": "markdown",
   "metadata": {},
   "source": [
    "Analyze the attention heads"
   ]
  },
  {
   "cell_type": "code",
   "execution_count": 3,
   "metadata": {},
   "outputs": [],
   "source": [
    "# Normalize an image for display\n",
    "def normalize_for_display(img):\n",
    "    img = img - img.min()\n",
    "    img = img / img.max()\n",
    "    return img"
   ]
  },
  {
   "cell_type": "code",
   "execution_count": 21,
   "metadata": {},
   "outputs": [
    {
     "name": "stdout",
     "output_type": "stream",
     "text": [
      "Visualizing attention for image 1...\n"
     ]
    },
    {
     "data": {
      "image/png": "[encoded data removed]",
      "text/plain": [
       "<Figure size 640x480 with 1 Axes>"
      ]
     },
     "metadata": {},
     "output_type": "display_data"
    },
    {
     "name": "stdout",
     "output_type": "stream",
     "text": [
      "Visualizing attention for image 2...\n"
     ]
    },
    {
     "data": {
      "image/png": "[encoded data removed]",
      "text/plain": [
       "<Figure size 640x480 with 1 Axes>"
      ]
     },
     "metadata": {},
     "output_type": "display_data"
    }
   ],
   "source": [
    "# Global variable to store raw attention weights\n",
    "captured_attention_weights = None\n",
    "\n",
    "# Hook function to capture attention weights\n",
    "def wrapped_attention_hook(module, input, output):\n",
    "    global captured_attention_weights\n",
    "    Q = module.query(input[0])\n",
    "    K = module.key(input[0])\n",
    "\n",
    "    # Compute attention\n",
    "    batch_size, seq_len, hidden_size = Q.shape\n",
    "    num_heads = model.config.num_attention_heads\n",
    "    head_dim = model.config.hidden_size // num_heads\n",
    "\n",
    "    Q = Q.view(batch_size, seq_len, num_heads, head_dim).permute(0, 2, 1, 3)\n",
    "    K = K.view(batch_size, seq_len, num_heads, head_dim).permute(0, 2, 1, 3)\n",
    "    attention_scores = torch.matmul(Q, K.transpose(-2, -1)) / (head_dim ** 0.5)\n",
    "    captured_attention_weights = torch.nn.functional.softmax(attention_scores, dim=-1)\n",
    "\n",
    "# Normalize images for display\n",
    "def normalize_for_display(img):\n",
    "    img = img - img.min()\n",
    "    img = img / img.max()\n",
    "    return img\n",
    "\n",
    "# Function to visualize attention\n",
    "def visualize_attention(image, selected_layer=-1, selected_head=0, threshold=0.8, apply_threshold=True):\n",
    "    global captured_attention_weights\n",
    "\n",
    "    # Clear previous weights\n",
    "    captured_attention_weights = None\n",
    "\n",
    "    # Get the selected layer's attention\n",
    "    layer_attention = model.encoder.layer[selected_layer].attention.attention\n",
    "\n",
    "    # Register the hook and perform forward pass\n",
    "    hook = layer_attention.register_forward_hook(wrapped_attention_hook)\n",
    "    model(image.unsqueeze(0))  # Forward pass\n",
    "    hook.remove()  # Remove the hook\n",
    "\n",
    "    # Verify attention weights are captured\n",
    "    if captured_attention_weights is None:\n",
    "        print(\"Error: Attention weights not captured!\")\n",
    "        return\n",
    "\n",
    "    # Extract attention for the selected head or aggregate across heads\n",
    "    attention_map = captured_attention_weights[0, selected_head, 1:, 1:]  # Patch tokens only\n",
    "\n",
    "    # Aggregate attention for each patch\n",
    "    patch_attention = attention_map.mean(dim=0)  # Average attention across all other patches\n",
    "\n",
    "    # Reshape into a 14x14 grid\n",
    "    patch_attention_2d = patch_attention.view(16, 16)\n",
    "\n",
    "    # Normalize the attention map\n",
    "    patch_attention_2d -= patch_attention_2d.min()\n",
    "    patch_attention_2d /= patch_attention_2d.max()\n",
    "\n",
    "    # Resize to match image dimensions\n",
    "    # resize = Resize((image.shape[-2], image.shape[-1]))\n",
    "    # attention_map_resized = resize(patch_attention_2d.unsqueeze(0).unsqueeze(0))\n",
    "\n",
    "    # Overlay the attention map on the image\n",
    "    # plt.imshow(normalize_for_display(image.permute(1, 2, 0)))  # Original image\n",
    "    # plt.imshow(attention_map_resized.squeeze().detach().cpu().numpy(), cmap=\"jet\", alpha=0.5)  # Overlay heatmap\n",
    "    plt.imshow(patch_attention_2d.squeeze().detach().cpu().numpy(), cmap=\"jet\", alpha=0.5)  # Overlay heatmap\n",
    "    plt.axis(\"off\")\n",
    "    plt.show()\n",
    "\n",
    "# Analyze attention for different images\n",
    "images = [inputs[\"pixel_values\"][122, :, :, :], inputs[\"pixel_values\"][123, :, :, :]]\n",
    "\n",
    "for idx, img in enumerate(images):\n",
    "    print(f\"Visualizing attention for image {idx + 1}...\")\n",
    "    visualize_attention(img, selected_layer=-1, selected_head=8, threshold=0.8, apply_threshold=False)  # Change head/layer as needed\n",
    "\n"
   ]
  },
  {
   "cell_type": "code",
   "execution_count": null,
   "metadata": {},
   "outputs": [],
   "source": []
  }
 ],
 "metadata": {
  "kernelspec": {
   "display_name": "aiml",
   "language": "python",
   "name": "python3"
  },
  "language_info": {
   "codemirror_mode": {
    "name": "ipython",
    "version": 3
   },
   "file_extension": ".py",
   "mimetype": "text/x-python",
   "name": "python",
   "nbconvert_exporter": "python",
   "pygments_lexer": "ipython3",
   "version": "3.12.3"
  }
 },
 "nbformat": 4,
 "nbformat_minor": 2
}
