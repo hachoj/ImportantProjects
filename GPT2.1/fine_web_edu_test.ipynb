{
 "cells": [
  {
   "cell_type": "code",
   "execution_count": 5,
   "metadata": {},
   "outputs": [],
   "source": [
    "# from datasets import load_dataset\n",
    "\n",
    "# # use name=\"sample-10BT\" to use the 10BT sample\n",
    "# fw = load_dataset(\"HuggingFaceFW/fineweb-edu\", name=\"sample-10BT\", split=\"train\", streaming=True)\n",
    "# from os import read\n",
    "# import torch\n",
    "# import torch.nn as nn\n",
    "# import torch.nn.functional as F\n",
    "\n",
    "# #load the model\n",
    "# # llama3_2_1B = torch.load('Llama3.2-1B/consolidated.00.pth', weights_only=True)\n",
    "# # tokenizer = AutoTokenizer.from_pretrained('Llama3.2-1B/tokenizer.model')\n",
    "\n",
    "# # Load model directly\n",
    "from transformers import AutoTokenizer, AutoModelForCausalLM\n",
    "\n",
    "tokenizer = AutoTokenizer.from_pretrained(\"allenai/OLMo-1B-hf\")\n",
    "model = AutoModelForCausalLM.from_pretrained(\"allenai/OLMo-1B-hf\")"
   ]
  },
  {
   "cell_type": "code",
   "execution_count": 15,
   "metadata": {
    "vscode": {
     "languageId": "ruby"
    }
   },
   "outputs": [
    {
     "data": {
      "text/plain": [
       "(7,)"
      ]
     },
     "execution_count": 15,
     "metadata": {},
     "output_type": "execute_result"
    }
   ],
   "source": [
    "import numpy as np\n",
    "# Iterate over the batched dataset\n",
    "tokenizer\n",
    "tokens = [tokenizer.eos_token_id]\n",
    "tokens.extend(tokenizer(\"hello world!\", return_tensors=\"np\").input_ids)\n",
    "token.shape\n",
    "# import numpy as np\n",
    "# tok = tok.flatten()\n",
    "# print(tokenizer.eos_token_id)\n",
    "# if tok[-1] != tokenizer.eos_token_id:\n",
    "#     tok = np.append(tok, tokenizer.eos_token_id)\n",
    "# print(tok[-1])\n",
    "\n",
    "# tokenizer.eos_token_id\n",
    "    \n",
    "# num_elements_in_shard = 0\n",
    "\n",
    "# for example in fw:\n",
    "#     shard = torch.cat((shard, tokenizer(example[\"text\"]+\"<|end_of_text|>\", return_tensors=\"np\").input_ids), dim=1)\n",
    "#     num_elements_in_shard += 1\n",
    "#     if (num_elements_in_shard == 15):\n",
    "#         break\n",
    "\n",
    "# shard.size()"
   ]
  },
  {
   "cell_type": "code",
   "execution_count": null,
   "metadata": {},
   "outputs": [],
   "source": []
  }
 ],
 "metadata": {
  "kernelspec": {
   "display_name": "ml_OS",
   "language": "python",
   "name": "python3"
  },
  "language_info": {
   "codemirror_mode": {
    "name": "ipython",
    "version": 3
   },
   "file_extension": ".py",
   "mimetype": "text/x-python",
   "name": "python",
   "nbconvert_exporter": "python",
   "pygments_lexer": "ipython3",
   "version": "3.12.6"
  }
 },
 "nbformat": 4,
 "nbformat_minor": 2
}
