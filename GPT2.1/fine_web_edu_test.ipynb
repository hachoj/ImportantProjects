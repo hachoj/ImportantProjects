{
 "cells": [
  {
   "cell_type": "code",
   "execution_count": 7,
   "metadata": {},
   "outputs": [
    {
     "data": {
      "application/vnd.jupyter.widget-view+json": {
       "model_id": "c7976014de9f4dd6a6a696b0e1baedcb",
       "version_major": 2,
       "version_minor": 0
      },
      "text/plain": [
       "Resolving data files:   0%|          | 0/1630 [00:00<?, ?it/s]"
      ]
     },
     "metadata": {},
     "output_type": "display_data"
    }
   ],
   "source": [
    "from datasets import load_dataset\n",
    "\n",
    "# use name=\"sample-10BT\" to use the 10BT sample\n",
    "fw = load_dataset(\"HuggingFaceFW/fineweb-edu\", name=\"sample-10BT\", split=\"train\", streaming=True)\n",
    "from os import read\n",
    "import torch\n",
    "import torch.nn as nn\n",
    "import torch.nn.functional as F\n",
    "\n",
    "#load the model\n",
    "# llama3_2_1B = torch.load('Llama3.2-1B/consolidated.00.pth', weights_only=True)\n",
    "# tokenizer = AutoTokenizer.from_pretrained('Llama3.2-1B/tokenizer.model')\n",
    "\n",
    "# Load model directly\n",
    "from transformers import AutoTokenizer, AutoModelForCausalLM\n",
    "\n",
    "with open('token.txt', 'r') as f:\n",
    "    access_token = f.read().strip()\n",
    "\n",
    "tokenizer = AutoTokenizer.from_pretrained(\"meta-llama/Llama-3.2-1B\", token=access_token)\n",
    "model = AutoModelForCausalLM.from_pretrained(\"meta-llama/Llama-3.2-1B\", token=access_token)"
   ]
  },
  {
   "cell_type": "code",
   "execution_count": 59,
   "metadata": {
    "vscode": {
     "languageId": "ruby"
    }
   },
   "outputs": [
    {
     "name": "stdout",
     "output_type": "stream",
     "text": [
      "128001\n",
      "128001\n"
     ]
    }
   ],
   "source": [
    "# Iterate over the batched dataset\n",
    "# shard = tokenizer(next(iter(fw[\"text\"]+\"<|end_of_text|>\", return_tensors=\"pt\"))).input_ids\n",
    "import numpy as np\n",
    "tok = tokenizer(next(iter(fw))[\"text\"], return_tensors=\"np\").input_ids\n",
    "tok = tok.flatten()\n",
    "print(tokenizer.eos_token_id)\n",
    "if tok[-1] != tokenizer.eos_token_id:\n",
    "    tok = np.append(tok, tokenizer.eos_token_id)\n",
    "print(tok[-1])\n",
    "# tokenizer.eos_token_id\n",
    "    \n",
    "# num_elements_in_shard = 0\n",
    "\n",
    "# for example in fw:\n",
    "#     shard = torch.cat((shard, tokenizer(example[\"text\"]+\"<|end_of_text|>\", return_tensors=\"np\").input_ids), dim=1)\n",
    "#     num_elements_in_shard += 1\n",
    "#     if (num_elements_in_shard == 15):\n",
    "#         break\n",
    "\n",
    "# shard.size()"
   ]
  },
  {
   "cell_type": "code",
   "execution_count": null,
   "metadata": {},
   "outputs": [],
   "source": []
  }
 ],
 "metadata": {
  "kernelspec": {
   "display_name": "ml_OS",
   "language": "python",
   "name": "python3"
  },
  "language_info": {
   "codemirror_mode": {
    "name": "ipython",
    "version": 3
   },
   "file_extension": ".py",
   "mimetype": "text/x-python",
   "name": "python",
   "nbconvert_exporter": "python",
   "pygments_lexer": "ipython3",
   "version": "3.12.6"
  }
 },
 "nbformat": 4,
 "nbformat_minor": 2
}
