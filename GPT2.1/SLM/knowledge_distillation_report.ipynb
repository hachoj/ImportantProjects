{
 "cells": [
  {
   "cell_type": "code",
   "execution_count": null,
   "metadata": {},
   "outputs": [],
   "source": [
    "0.6071"
   ]
  },
  {
   "cell_type": "markdown",
   "metadata": {},
   "source": [
    "## Hella Swag Eval\n",
    "\n",
    "Olmo 1B scored 0.6071 accuracy_norm on the hella swag eval\n",
    "Olmo 1B acc_norm: 0.4893\n",
    "gpt-2 124M acc_norm: 0.2955\n",
    "gpt-2 1.5B acc_norm: 0.4893"
   ]
  }
 ],
 "metadata": {
  "language_info": {
   "name": "python"
  }
 },
 "nbformat": 4,
 "nbformat_minor": 2
}
